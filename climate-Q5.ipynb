{
 "cells": [
  {
   "cell_type": "code",
   "execution_count": 1,
   "id": "e6fdd1aa-86a2-420f-88bd-2cb2163f9909",
   "metadata": {},
   "outputs": [
    {
     "name": "stderr",
     "output_type": "stream",
     "text": [
      "/tmp/ipykernel_1089/187724789.py:10: MatplotlibDeprecationWarning: The seaborn styles shipped by Matplotlib are deprecated since 3.6, as they no longer correspond to the styles shipped by seaborn. However, they will remain available as 'seaborn-v0_8-<style>'. Alternatively, directly use the seaborn API instead.\n",
      "  plt.style.use(\"seaborn-whitegrid\")\n"
     ]
    }
   ],
   "source": [
    "import matplotlib.pyplot as plt\n",
    "import numpy as np\n",
    "import pandas as pd\n",
    "import seaborn as sns\n",
    "import os\n",
    "\n",
    "from pathlib import Path\n",
    "\n",
    "# Small style adjustments for more readable plots\n",
    "plt.style.use(\"seaborn-whitegrid\")\n",
    "plt.rcParams[\"figure.figsize\"] = (8, 6)\n",
    "plt.rcParams[\"font.size\"] = 14"
   ]
  },
  {
   "cell_type": "code",
   "execution_count": 2,
   "id": "cb8ba11e-54f2-41bd-b5a2-b1901ce0d1b8",
   "metadata": {},
   "outputs": [],
   "source": [
    "import cartopy.crs as ccrs\n",
    "import cartopy.feature as cfeature\n",
    "import fsspec\n",
    "\n",
    "import xarray as xr\n",
    "xr.set_options(display_style=\"html\")  # display dataset nicely\n",
    "\n",
    "import warnings\n",
    "warnings.simplefilter(\"ignore\")  # filter some warning messages\n",
    "\n",
    "# code features from https://scitools.org.uk/cartopy/docs/v0.14/matplotlib/feature_interface.html\n",
    "crs = ccrs.PlateCarree()  # set projection"
   ]
  },
  {
   "cell_type": "code",
   "execution_count": null,
   "id": "3df25473-9983-4e7a-b1ac-1b9f6dc6c648",
   "metadata": {},
   "outputs": [],
   "source": [
    "ds = xr.open_dataset(\"~/shared/climate-data/ds_hw.nc\")\n",
    "ds"
   ]
  }
 ],
 "metadata": {
  "kernelspec": {
   "display_name": "Python 3 (ipykernel)",
   "language": "python",
   "name": "python3"
  },
  "language_info": {
   "codemirror_mode": {
    "name": "ipython",
    "version": 3
   },
   "file_extension": ".py",
   "mimetype": "text/x-python",
   "name": "python",
   "nbconvert_exporter": "python",
   "pygments_lexer": "ipython3",
   "version": "3.10.8"
  }
 },
 "nbformat": 4,
 "nbformat_minor": 5
}
